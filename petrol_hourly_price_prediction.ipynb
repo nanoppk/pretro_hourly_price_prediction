{
 "cells": [
  {
   "cell_type": "markdown",
   "id": "07f38ca1",
   "metadata": {},
   "source": [
    "<div class=\"alert alert-block alert-info\">\n",
    "    \n",
    "## Libaries\n",
    "</div>"
   ]
  },
  {
   "cell_type": "code",
   "execution_count": 1,
   "id": "c5c26d01",
   "metadata": {
    "vscode": {
     "languageId": "r"
    }
   },
   "outputs": [],
   "source": [
    "options(warn = -1)"
   ]
  },
  {
   "cell_type": "code",
   "execution_count": 2,
   "id": "8d69ffbb",
   "metadata": {
    "scrolled": true,
    "vscode": {
     "languageId": "r"
    }
   },
   "outputs": [
    {
     "name": "stderr",
     "output_type": "stream",
     "text": [
      "Loading required package: ggplot2\n",
      "\n",
      "Loading required package: lattice\n",
      "\n",
      "── \u001b[1mAttaching core tidyverse packages\u001b[22m ──────────────────────── tidyverse 2.0.0 ──\n",
      "\u001b[32m✔\u001b[39m \u001b[34mdplyr    \u001b[39m 1.1.2     \u001b[32m✔\u001b[39m \u001b[34mreadr    \u001b[39m 2.1.4\n",
      "\u001b[32m✔\u001b[39m \u001b[34mforcats  \u001b[39m 1.0.0     \u001b[32m✔\u001b[39m \u001b[34mstringr  \u001b[39m 1.5.0\n",
      "\u001b[32m✔\u001b[39m \u001b[34mlubridate\u001b[39m 1.9.2     \u001b[32m✔\u001b[39m \u001b[34mtibble   \u001b[39m 3.2.1\n",
      "\u001b[32m✔\u001b[39m \u001b[34mpurrr    \u001b[39m 1.0.1     \u001b[32m✔\u001b[39m \u001b[34mtidyr    \u001b[39m 1.3.0\n",
      "── \u001b[1mConflicts\u001b[22m ────────────────────────────────────────── tidyverse_conflicts() ──\n",
      "\u001b[31m✖\u001b[39m \u001b[34mdplyr\u001b[39m::\u001b[32mfilter()\u001b[39m masks \u001b[34mstats\u001b[39m::filter()\n",
      "\u001b[31m✖\u001b[39m \u001b[34mdplyr\u001b[39m::\u001b[32mlag()\u001b[39m    masks \u001b[34mstats\u001b[39m::lag()\n",
      "\u001b[31m✖\u001b[39m \u001b[34mpurrr\u001b[39m::\u001b[32mlift()\u001b[39m   masks \u001b[34mcaret\u001b[39m::lift()\n",
      "\u001b[36mℹ\u001b[39m Use the conflicted package (\u001b[3m\u001b[34m<http://conflicted.r-lib.org/>\u001b[39m\u001b[23m) to force all conflicts to become errors\n",
      "Registered S3 method overwritten by 'GGally':\n",
      "  method from   \n",
      "  +.gg   ggplot2\n",
      "\n",
      "\n",
      "Attaching package: 'boot'\n",
      "\n",
      "\n",
      "The following object is masked from 'package:lattice':\n",
      "\n",
      "    melanoma\n",
      "\n",
      "\n",
      "randomForest 4.7-1.1\n",
      "\n",
      "Type rfNews() to see new features/changes/bug fixes.\n",
      "\n",
      "\n",
      "Attaching package: 'randomForest'\n",
      "\n",
      "\n",
      "The following object is masked from 'package:dplyr':\n",
      "\n",
      "    combine\n",
      "\n",
      "\n",
      "The following object is masked from 'package:ggplot2':\n",
      "\n",
      "    margin\n",
      "\n",
      "\n",
      "\n",
      "Attaching package: 'gridExtra'\n",
      "\n",
      "\n",
      "The following object is masked from 'package:randomForest':\n",
      "\n",
      "    combine\n",
      "\n",
      "\n",
      "The following object is masked from 'package:dplyr':\n",
      "\n",
      "    combine\n",
      "\n",
      "\n",
      "\n",
      "Attaching package: 'reshape2'\n",
      "\n",
      "\n",
      "The following object is masked from 'package:tidyr':\n",
      "\n",
      "    smiths\n",
      "\n",
      "\n"
     ]
    }
   ],
   "source": [
    "library(caret)\n",
    "library(tidyverse)\n",
    "library(ggplot2)\n",
    "library(GGally)\n",
    "library(leaps)\n",
    "library(lubridate)\n",
    "library(boot)\n",
    "library(DAAG)\n",
    "library(randomForest)\n",
    "library(gridExtra) \n",
    "library(reshape2)"
   ]
  },
  {
   "cell_type": "markdown",
   "id": "10ee8a60",
   "metadata": {},
   "source": [
    "<div class=\"alert alert-block alert-info\">\n",
    "    \n",
    "## Table of Contents\n",
    "\n",
    "</div>\n",
    "\n",
    "[1. Exploratory Data Analysis](#EDA) <br>\n",
    "[2. Random forest modeling](#rf) <br>\n",
    "[3. Final model selection](#select) <br>\n",
    "[4. File preparation](#submit) <br>"
   ]
  },
  {
   "cell_type": "markdown",
   "id": "e30b8324",
   "metadata": {},
   "source": [
    "<div class=\"alert alert-block alert-success\">\n",
    "    \n",
    "## Exploratory Data Analysis  <a class=\"anchor\" name=\"EDA\"></a>"
   ]
  },
  {
   "cell_type": "markdown",
   "id": "cc635d7f",
   "metadata": {},
   "source": [
    "Load all datasets."
   ]
  },
  {
   "cell_type": "code",
   "execution_count": 3,
   "id": "b0c8c872",
   "metadata": {
    "vscode": {
     "languageId": "r"
    }
   },
   "outputs": [],
   "source": [
    "train_raw <- read.csv(file.path(\"A1_petrol_price_labeled.csv\"),sep=\",\", stringsAsFactors = TRUE)\n",
    "X_val <- read.csv(file.path(\"A1_petrol_price_kaggle.csv\"),sep=\",\", stringsAsFactors = TRUE)\n",
    "X_test <- read.csv(file.path(\"A1_petrol_price_submission.csv\"),sep=\",\", stringsAsFactors = TRUE)"
   ]
  },
  {
   "cell_type": "markdown",
   "id": "5cf3f22a",
   "metadata": {},
   "source": [
    "Next, extract extra features date, year, month, day, hour, minuet and second from date_time column."
   ]
  },
  {
   "cell_type": "code",
   "execution_count": 4,
   "id": "26fb97be",
   "metadata": {
    "vscode": {
     "languageId": "r"
    }
   },
   "outputs": [],
   "source": [
    "# extract time data from dataset ‘A1_petrol_price_labeled.csv’\n",
    "train_raw <- train_raw  %>%\n",
    "    mutate(self_service = self_service) %>%\n",
    "        mutate(\n",
    "            date = date(date_time),      \n",
    "            year = year(date_time),       \n",
    "            month = month(date_time),     \n",
    "            day =  day(date_time),         \n",
    "            hour = hour(date_time),       \n",
    "            minute = minute(date_time),   \n",
    "            second = second(date_time))"
   ]
  },
  {
   "cell_type": "code",
   "execution_count": 5,
   "id": "d186c685",
   "metadata": {
    "vscode": {
     "languageId": "r"
    }
   },
   "outputs": [],
   "source": [
    "# extract time data from dataset ‘A1_petrol_price_kaggle.csv\n",
    "X_val <- X_val  %>% \n",
    "    mutate(self_service = self_service) %>%\n",
    "        mutate(\n",
    "            date = date(date_time),      \n",
    "            year = year(date_time),       \n",
    "            month = month(date_time),     \n",
    "            day =  day(date_time),         \n",
    "            hour = hour(date_time),       \n",
    "            minute = minute(date_time),   \n",
    "            second = second(date_time))"
   ]
  },
  {
   "cell_type": "code",
   "execution_count": 6,
   "id": "35861444",
   "metadata": {
    "vscode": {
     "languageId": "r"
    }
   },
   "outputs": [],
   "source": [
    "# extract time data from dataset A1_petrol_price_submission.csv\n",
    "X_test <- X_test  %>% \n",
    "    mutate(self_service = self_service) %>%\n",
    "        mutate(\n",
    "            date = date(date_time),      \n",
    "            year = year(date_time),       \n",
    "            month = month(date_time),     \n",
    "            day =  day(date_time),         \n",
    "            hour = hour(date_time),       \n",
    "            minute = minute(date_time),   \n",
    "            second = second(date_time))\n"
   ]
  },
  {
   "cell_type": "markdown",
   "id": "989f9d8a",
   "metadata": {},
   "source": [
    "1. In the datasets, all features have similar distributions, excluding month."
   ]
  },
  {
   "cell_type": "code",
   "execution_count": 7,
   "id": "15d35966",
   "metadata": {
    "scrolled": false,
    "vscode": {
     "languageId": "r"
    }
   },
   "outputs": [
    {
     "name": "stderr",
     "output_type": "stream",
     "text": [
      "\u001b[1m\u001b[22m`stat_bin()` using `bins = 30`. Pick better value with `binwidth`.\n",
      "\u001b[1m\u001b[22m`stat_bin()` using `bins = 30`. Pick better value with `binwidth`.\n",
      "\u001b[1m\u001b[22m`stat_bin()` using `bins = 30`. Pick better value with `binwidth`.\n"
     ]
    },
    {
     "data": {
      "image/png": "[encoded data removed]",
      "text/plain": [
       "plot without title"
      ]
     },
     "metadata": {
      "image/png": {
       "height": 420,
       "width": 420
      }
     },
     "output_type": "display_data"
    }
   ],
   "source": [
    "plt1 <- train_raw  %>% ggplot(aes(x= month)) +\n",
    "    geom_histogram(color = I('black'), fill = \"red\") + \n",
    "    ggtitle(\"Month in Training\")\n",
    "\n",
    "plt2 <- X_val  %>% ggplot(aes(x= month)) +\n",
    "    geom_histogram(color = I('black'), fill = \"red\") + \n",
    "    ggtitle(\"Month in Validation\")\n",
    "\n",
    "plt3 <- X_test  %>% ggplot(aes(x= month)) +\n",
    "    geom_histogram(color = I('black'), fill = \"red\") + \n",
    "    ggtitle(\"Month in Testing\")\n",
    "\n",
    "grid.arrange(plt1, plt2, plt3, ncol= 2)"
   ]
  },
  {
   "cell_type": "markdown",
   "id": "b7386053",
   "metadata": {},
   "source": [
    "2. When plotting training features against price, we can see that there were no linear relationships between them. Hence, the plots suggest that a linear model might not be sufficient for describing price."
   ]
  },
  {
   "cell_type": "code",
   "execution_count": 8,
   "id": "6fdc16cd",
   "metadata": {
    "vscode": {
     "languageId": "r"
    }
   },
   "outputs": [
    {
     "data": {
      "image/png": "[encoded data removed]",
      "text/plain": [
       "plot without title"
      ]
     },
     "metadata": {
      "image/png": {
       "height": 420,
       "width": 420
      }
     },
     "output_type": "display_data"
    }
   ],
   "source": [
    "# poting correlation heatmap\n",
    "numeric_columns <- train_raw[, sapply(train_raw, is.numeric)]\n",
    "numeric_columns <- numeric_columns  %>%  select(-year)\n",
    "cor_melt <- melt(cor(numeric_columns))\n",
    "ggplot(cor_melt, aes(Var1, Var2, fill = value)) +\n",
    "  geom_tile() +\n",
    "  scale_fill_gradient(low = \"blue\", high = \"red\") +\n",
    "  labs(title = \"Correlation Heatmap\") +\n",
    "  theme_minimal()"
   ]
  },
  {
   "cell_type": "markdown",
   "id": "86d8f5b9",
   "metadata": {},
   "source": [
    "3. Most of the activities in the training set happened during April to June as below. Which might indicate a potential seasonality in data."
   ]
  },
  {
   "cell_type": "code",
   "execution_count": 9,
   "id": "501e0f1b",
   "metadata": {
    "vscode": {
     "languageId": "r"
    }
   },
   "outputs": [
    {
     "data": {
      "image/png": "[encoded data removed]",
      "text/plain": [
       "plot without title"
      ]
     },
     "metadata": {
      "image/png": {
       "height": 420,
       "width": 420
      }
     },
     "output_type": "display_data"
    }
   ],
   "source": [
    "month_counts <- train_raw %>%\n",
    "  group_by(month) %>%\n",
    "  count()\n",
    "\n",
    "ggplot(month_counts, aes(x = month, y = n)) +\n",
    "  geom_bar(stat = \"identity\", fill= \"red\", color = I('black')) +\n",
    "  labs(x = \"Month\", y = \"Count\") +\n",
    "  ggtitle(\"Count of Observations per Month\")"
   ]
  },
  {
   "cell_type": "markdown",
   "id": "e768ed4f",
   "metadata": {},
   "source": [
    "4. When plotting month and day, we can see that they revealed some time relavant patterns."
   ]
  },
  {
   "cell_type": "code",
   "execution_count": 10,
   "id": "64ddff29",
   "metadata": {
    "vscode": {
     "languageId": "r"
    }
   },
   "outputs": [
    {
     "data": {
      "image/png": "[encoded data removed]",
      "text/plain": [
       "plot without title"
      ]
     },
     "metadata": {
      "image/png": {
       "height": 420,
       "width": 420
      }
     },
     "output_type": "display_data"
    }
   ],
   "source": [
    "plt1 <- train_raw %>% \n",
    "        mutate(month = factor(month)) %>% \n",
    "        ggplot(aes(month, price))+\n",
    "        geom_boxplot(fill= \"red\", color = I('black'))\n",
    "\n",
    "plt2 <- train_raw %>% \n",
    "        mutate(day = factor(day)) %>% \n",
    "        ggplot(aes(day, price))+\n",
    "        geom_boxplot(fill= \"red\", color = I('black'))\n",
    "\n",
    "grid.arrange(plt1, plt2, nrow= 2)"
   ]
  },
  {
   "cell_type": "markdown",
   "id": "c397e5af",
   "metadata": {},
   "source": [
    "5. The histogram of companies and managers demonstrates that they have different levels of activity within datasets, which might have an impact on price negotiation."
   ]
  },
  {
   "cell_type": "code",
   "execution_count": 11,
   "id": "e82b26c1",
   "metadata": {
    "vscode": {
     "languageId": "r"
    }
   },
   "outputs": [
    {
     "data": {
      "image/png": "[encoded data removed]",
      "text/plain": [
       "plot without title"
      ]
     },
     "metadata": {
      "image/png": {
       "height": 420,
       "width": 420
      }
     },
     "output_type": "display_data"
    }
   ],
   "source": [
    "company_counts <- train_raw %>%\n",
    "  group_by(company) %>%\n",
    "  count()  %>% arrange(desc(n))\n",
    "\n",
    "plt1 <- ggplot(company_counts, aes(x = reorder(company, -n), y = n)) +\n",
    "  geom_bar(stat = \"identity\", fill = \"red\", color = \"black\") +\n",
    "  labs(x = \"Company\", y = \"Count\") +\n",
    "  ggtitle(\"Count of Observations for Companies\") +\n",
    "  theme(axis.text.x = element_text(angle = 45, hjust = 1))\n",
    "\n",
    "manager_counts <- train_raw %>%\n",
    "  group_by(manager) %>%\n",
    "  count()  %>% arrange(desc(n))\n",
    "\n",
    "plt2 <- ggplot(manager_counts, aes(x = reorder(manager, -n), y = n)) +\n",
    "  geom_bar(stat = \"identity\", fill = \"red\", color = \"black\") +\n",
    "  labs(x = \"manager\", y = \"Count\") +\n",
    "  ggtitle(\"Count of Observations for Managers\") +\n",
    "  theme(axis.text.x = element_blank())\n",
    "\n",
    "\n",
    "grid.arrange(plt1, plt2, nrow= 2)"
   ]
  },
  {
   "cell_type": "markdown",
   "id": "8356668e",
   "metadata": {},
   "source": [
    "6. Box plots of station_category and self_service clearly indicate effect on price."
   ]
  },
  {
   "cell_type": "code",
   "execution_count": 12,
   "id": "67542be9",
   "metadata": {
    "vscode": {
     "languageId": "r"
    }
   },
   "outputs": [
    {
     "data": {
      "image/png": "[encoded data removed]",
      "text/plain": [
       "plot without title"
      ]
     },
     "metadata": {
      "image/png": {
       "height": 420,
       "width": 420
      }
     },
     "output_type": "display_data"
    }
   ],
   "source": [
    "plt1 <- train_raw %>% \n",
    "        mutate(self_service = factor(self_service)) %>% \n",
    "        ggplot(aes(self_service, price))+\n",
    "        geom_boxplot(fill= \"red\", color = I('black'))\n",
    "\n",
    "plt2 <- train_raw %>% \n",
    "        mutate(station_category = factor(station_category)) %>% \n",
    "        ggplot(aes(station_category, price))+\n",
    "        geom_boxplot(fill= \"red\", color = I('black'))\n",
    "\n",
    "grid.arrange(plt1, plt2, nrow= 1)"
   ]
  },
  {
   "cell_type": "markdown",
   "id": "d71be6c9",
   "metadata": {},
   "source": [
    "<div class=\"alert alert-block alert-success\">\n",
    "    \n",
    "## Random forest modeling  <a class=\"anchor\" name=\"rf\"></a>"
   ]
  },
  {
   "cell_type": "markdown",
   "id": "aed09715",
   "metadata": {},
   "source": [
    "Reloading data"
   ]
  },
  {
   "cell_type": "code",
   "execution_count": 3,
   "id": "c786c983",
   "metadata": {
    "vscode": {
     "languageId": "r"
    }
   },
   "outputs": [],
   "source": [
    "train_raw <- read.csv(file.path(\"A1_petrol_price_labeled.csv\"),sep=\",\", stringsAsFactors = TRUE)\n",
    "X_val <- read.csv(file.path(\"A1_petrol_price_kaggle.csv\"),sep=\",\", stringsAsFactors = TRUE)\n",
    "X_test <- read.csv(file.path(\"A1_petrol_price_submission.csv\"),sep=\",\", stringsAsFactors = TRUE)"
   ]
  },
  {
   "cell_type": "markdown",
   "id": "6f384123",
   "metadata": {},
   "source": [
    "First, we assume that petro prices is seasonal data which might follow some time series patterns, hecen we extracted extra features from date_time which are date, day, hour, minuet, week_day and transform self_service from integer to factor."
   ]
  },
  {
   "cell_type": "code",
   "execution_count": 4,
   "id": "350a850a",
   "metadata": {
    "vscode": {
     "languageId": "r"
    }
   },
   "outputs": [],
   "source": [
    "# change self_service from int to factor\n",
    "train_raw <- train_raw  %>% \n",
    "mutate(self_service = factor(self_service)) %>%\n",
    "mutate(date = date(date_time),                \n",
    "    day =  day(date_time),         \n",
    "    hour = hour(date_time),\n",
    "    minute = minute(date_time),\n",
    "    week_day = weekdays(date)) %>% \n",
    "select(-c(id, date_time))\n",
    "\n",
    "# val set\n",
    "X_val <- X_val %>% \n",
    "  mutate(self_service = factor(self_service)) %>%\n",
    "  mutate(date = date(date_time),                 \n",
    "         day = day(date_time),         \n",
    "         hour = hour(date_time),\n",
    "         minute = minute(date_time),\n",
    "         week_day = weekdays(date)) %>% \n",
    "select(-date_time)\n",
    "\n",
    "# test set\n",
    "X_test <- X_test %>% \n",
    "  mutate(self_service = factor(self_service)) %>%\n",
    "  mutate(date = date(date_time),                \n",
    "         day = day(date_time),         \n",
    "         hour = hour(date_time),\n",
    "         minute = minute(date_time),\n",
    "         week_day = weekdays(date)) %>% \n",
    "select(-c(date_time))"
   ]
  },
  {
   "cell_type": "markdown",
   "id": "da6ce0d7",
   "metadata": {},
   "source": [
    "Actually, randomforest can handdle factor type data. However, when it will be error when factors have level more than 53 levels. So encoding categorical data is required for **company, manager, station_name**. The code from template also provide varince filtering, which will filter out near zero varince which will not contribute to the modeling process."
   ]
  },
  {
   "cell_type": "code",
   "execution_count": 5,
   "id": "2b1f2f7d",
   "metadata": {
    "vscode": {
     "languageId": "r"
    }
   },
   "outputs": [],
   "source": [
    "all.dummies <- dummyVars(~company + manager + station_name, data = train_raw)\n",
    "all.binary_var <- predict(all.dummies, newdata = train_raw) # convert to binary\n",
    "nzv.stat <- nearZeroVar(all.binary_var, saveMetrics=T) # check for near zero variance\n",
    "all.nzv <- nearZeroVar(all.binary_var, freqCut = 1000) "
   ]
  },
  {
   "cell_type": "code",
   "execution_count": 6,
   "id": "edc96fce",
   "metadata": {
    "scrolled": true,
    "vscode": {
     "languageId": "r"
    }
   },
   "outputs": [
    {
     "data": {
      "text/html": [
       "<table class=\"dataframe\">\n",
       "<caption>A data.frame: 366 × 4</caption>\n",
       "<thead>\n",
       "\t<tr><th></th><th scope=col>freqRatio</th><th scope=col>percentUnique</th><th scope=col>zeroVar</th><th scope=col>nzv</th></tr>\n",
       "\t<tr><th></th><th scope=col>&lt;dbl&gt;</th><th scope=col>&lt;dbl&gt;</th><th scope=col>&lt;lgl&gt;</th><th scope=col>&lt;lgl&gt;</th></tr>\n",
       "</thead>\n",
       "<tbody>\n",
       "\t<tr><th scope=row>manager.manager_126</th><td>8621.5000</td><td>0.01159756</td><td>FALSE</td><td>TRUE</td></tr>\n",
       "\t<tr><th scope=row>manager.manager_140</th><td>8621.5000</td><td>0.01159756</td><td>FALSE</td><td>TRUE</td></tr>\n",
       "\t<tr><th scope=row>manager.manager_127</th><td>2873.1667</td><td>0.01159756</td><td>FALSE</td><td>TRUE</td></tr>\n",
       "\t<tr><th scope=row>station_name.station_197</th><td>2873.1667</td><td>0.01159756</td><td>FALSE</td><td>TRUE</td></tr>\n",
       "\t<tr><th scope=row>station_name.station_85</th><td>2873.1667</td><td>0.01159756</td><td>FALSE</td><td>TRUE</td></tr>\n",
       "\t<tr><th scope=row>manager.manager_135</th><td>2154.6250</td><td>0.01159756</td><td>FALSE</td><td>TRUE</td></tr>\n",
       "\t<tr><th scope=row>station_name.station_204</th><td>2154.6250</td><td>0.01159756</td><td>FALSE</td><td>TRUE</td></tr>\n",
       "\t<tr><th scope=row>station_name.station_42</th><td>1723.5000</td><td>0.01159756</td><td>FALSE</td><td>TRUE</td></tr>\n",
       "\t<tr><th scope=row>manager.manager_137</th><td>1566.7273</td><td>0.01159756</td><td>FALSE</td><td>TRUE</td></tr>\n",
       "\t<tr><th scope=row>station_name.station_206</th><td>1566.7273</td><td>0.01159756</td><td>FALSE</td><td>TRUE</td></tr>\n",
       "\t<tr><th scope=row>manager.manager_101</th><td>1325.5385</td><td>0.01159756</td><td>FALSE</td><td>TRUE</td></tr>\n",
       "\t<tr><th scope=row>company.Energy Rete</th><td>1230.7857</td><td>0.01159756</td><td>FALSE</td><td>TRUE</td></tr>\n",
       "\t<tr><th scope=row>manager.manager_134</th><td>1230.7857</td><td>0.01159756</td><td>FALSE</td><td>TRUE</td></tr>\n",
       "\t<tr><th scope=row>manager.manager_69</th><td>1230.7857</td><td>0.01159756</td><td>FALSE</td><td>TRUE</td></tr>\n",
       "\t<tr><th scope=row>station_name.station_139</th><td>1230.7857</td><td>0.01159756</td><td>FALSE</td><td>TRUE</td></tr>\n",
       "\t<tr><th scope=row>station_name.station_203</th><td>1230.7857</td><td>0.01159756</td><td>FALSE</td><td>TRUE</td></tr>\n",
       "\t<tr><th scope=row>manager.manager_138</th><td>1076.8125</td><td>0.01159756</td><td>FALSE</td><td>TRUE</td></tr>\n",
       "\t<tr><th scope=row>manager.manager_124</th><td> 957.0556</td><td>0.01159756</td><td>FALSE</td><td>TRUE</td></tr>\n",
       "\t<tr><th scope=row>station_name.station_194</th><td> 957.0556</td><td>0.01159756</td><td>FALSE</td><td>TRUE</td></tr>\n",
       "\t<tr><th scope=row>manager.manager_116</th><td> 906.6316</td><td>0.01159756</td><td>FALSE</td><td>TRUE</td></tr>\n",
       "\t<tr><th scope=row>station_name.station_185</th><td> 906.6316</td><td>0.01159756</td><td>FALSE</td><td>TRUE</td></tr>\n",
       "\t<tr><th scope=row>manager.manager_132</th><td> 861.2500</td><td>0.01159756</td><td>FALSE</td><td>TRUE</td></tr>\n",
       "\t<tr><th scope=row>station_name.station_200</th><td> 861.2500</td><td>0.01159756</td><td>FALSE</td><td>TRUE</td></tr>\n",
       "\t<tr><th scope=row>manager.manager_109</th><td> 782.8636</td><td>0.01159756</td><td>FALSE</td><td>TRUE</td></tr>\n",
       "\t<tr><th scope=row>manager.manager_19</th><td> 748.7826</td><td>0.01159756</td><td>FALSE</td><td>TRUE</td></tr>\n",
       "\t<tr><th scope=row>station_name.station_22</th><td> 748.7826</td><td>0.01159756</td><td>FALSE</td><td>TRUE</td></tr>\n",
       "\t<tr><th scope=row>manager.manager_8</th><td> 717.5417</td><td>0.01159756</td><td>FALSE</td><td>TRUE</td></tr>\n",
       "\t<tr><th scope=row>station_name.station_8</th><td> 717.5417</td><td>0.01159756</td><td>FALSE</td><td>TRUE</td></tr>\n",
       "\t<tr><th scope=row>station_name.station_192</th><td> 662.2692</td><td>0.01159756</td><td>FALSE</td><td>TRUE</td></tr>\n",
       "\t<tr><th scope=row>station_name.station_164</th><td> 637.7037</td><td>0.01159756</td><td>FALSE</td><td>TRUE</td></tr>\n",
       "\t<tr><th scope=row>⋮</th><td>⋮</td><td>⋮</td><td>⋮</td><td>⋮</td></tr>\n",
       "\t<tr><th scope=row>company.Beyfin</th><td>81.511962</td><td>0.01159756</td><td>FALSE</td><td> TRUE</td></tr>\n",
       "\t<tr><th scope=row>station_name.station_16</th><td>81.119048</td><td>0.01159756</td><td>FALSE</td><td> TRUE</td></tr>\n",
       "\t<tr><th scope=row>manager.manager_42</th><td>80.344340</td><td>0.01159756</td><td>FALSE</td><td> TRUE</td></tr>\n",
       "\t<tr><th scope=row>station_name.station_74</th><td>80.344340</td><td>0.01159756</td><td>FALSE</td><td> TRUE</td></tr>\n",
       "\t<tr><th scope=row>station_name.station_83</th><td>80.344340</td><td>0.01159756</td><td>FALSE</td><td> TRUE</td></tr>\n",
       "\t<tr><th scope=row>station_name.station_79</th><td>78.837963</td><td>0.01159756</td><td>FALSE</td><td> TRUE</td></tr>\n",
       "\t<tr><th scope=row>station_name.station_93</th><td>78.837963</td><td>0.01159756</td><td>FALSE</td><td> TRUE</td></tr>\n",
       "\t<tr><th scope=row>station_name.station_72</th><td>78.105505</td><td>0.01159756</td><td>FALSE</td><td> TRUE</td></tr>\n",
       "\t<tr><th scope=row>station_name.station_77</th><td>78.105505</td><td>0.01159756</td><td>FALSE</td><td> TRUE</td></tr>\n",
       "\t<tr><th scope=row>station_name.station_81</th><td>78.105505</td><td>0.01159756</td><td>FALSE</td><td> TRUE</td></tr>\n",
       "\t<tr><th scope=row>station_name.station_15</th><td>72.072034</td><td>0.01159756</td><td>FALSE</td><td> TRUE</td></tr>\n",
       "\t<tr><th scope=row>station_name.station_2</th><td>71.457983</td><td>0.01159756</td><td>FALSE</td><td> TRUE</td></tr>\n",
       "\t<tr><th scope=row>station_name.station_45</th><td>67.432540</td><td>0.01159756</td><td>FALSE</td><td> TRUE</td></tr>\n",
       "\t<tr><th scope=row>manager.manager_3</th><td>65.841085</td><td>0.01159756</td><td>FALSE</td><td> TRUE</td></tr>\n",
       "\t<tr><th scope=row>station_name.station_47</th><td>56.102649</td><td>0.01159756</td><td>FALSE</td><td> TRUE</td></tr>\n",
       "\t<tr><th scope=row>company.Pompe Bianche</th><td>53.746032</td><td>0.01159756</td><td>FALSE</td><td> TRUE</td></tr>\n",
       "\t<tr><th scope=row>manager.manager_34</th><td>44.143979</td><td>0.01159756</td><td>FALSE</td><td> TRUE</td></tr>\n",
       "\t<tr><th scope=row>manager.manager_53</th><td>42.992347</td><td>0.01159756</td><td>FALSE</td><td> TRUE</td></tr>\n",
       "\t<tr><th scope=row>manager.manager_7</th><td>39.864929</td><td>0.01159756</td><td>FALSE</td><td> TRUE</td></tr>\n",
       "\t<tr><th scope=row>company.OIL ONE</th><td>32.036398</td><td>0.01159756</td><td>FALSE</td><td> TRUE</td></tr>\n",
       "\t<tr><th scope=row>manager.manager_50</th><td>26.769726</td><td>0.01159756</td><td>FALSE</td><td> TRUE</td></tr>\n",
       "\t<tr><th scope=row>company.KEROPETROL</th><td>19.384161</td><td>0.01159756</td><td>FALSE</td><td> TRUE</td></tr>\n",
       "\t<tr><th scope=row>manager.manager_22</th><td>13.904927</td><td>0.01159756</td><td>FALSE</td><td>FALSE</td></tr>\n",
       "\t<tr><th scope=row>manager.manager_36</th><td>10.512016</td><td>0.01159756</td><td>FALSE</td><td>FALSE</td></tr>\n",
       "\t<tr><th scope=row>company.Q8</th><td> 8.231799</td><td>0.01159756</td><td>FALSE</td><td>FALSE</td></tr>\n",
       "\t<tr><th scope=row>manager.manager_24</th><td> 6.965358</td><td>0.01159756</td><td>FALSE</td><td>FALSE</td></tr>\n",
       "\t<tr><th scope=row>company.Tamoil</th><td> 5.055126</td><td>0.01159756</td><td>FALSE</td><td>FALSE</td></tr>\n",
       "\t<tr><th scope=row>company.Esso</th><td> 4.794691</td><td>0.01159756</td><td>FALSE</td><td>FALSE</td></tr>\n",
       "\t<tr><th scope=row>company.Agip Eni</th><td> 4.000000</td><td>0.01159756</td><td>FALSE</td><td>FALSE</td></tr>\n",
       "\t<tr><th scope=row>company.Api-Ip</th><td> 3.681053</td><td>0.01159756</td><td>FALSE</td><td>FALSE</td></tr>\n",
       "</tbody>\n",
       "</table>\n"
      ],
      "text/latex": [
       "A data.frame: 366 × 4\n",
       "\\begin{tabular}{r|llll}\n",
       "  & freqRatio & percentUnique & zeroVar & nzv\\\\\n",
       "  & <dbl> & <dbl> & <lgl> & <lgl>\\\\\n",
       "\\hline\n",
       "\tmanager.manager\\_126 & 8621.5000 & 0.01159756 & FALSE & TRUE\\\\\n",
       "\tmanager.manager\\_140 & 8621.5000 & 0.01159756 & FALSE & TRUE\\\\\n",
       "\tmanager.manager\\_127 & 2873.1667 & 0.01159756 & FALSE & TRUE\\\\\n",
       "\tstation\\_name.station\\_197 & 2873.1667 & 0.01159756 & FALSE & TRUE\\\\\n",
       "\tstation\\_name.station\\_85 & 2873.1667 & 0.01159756 & FALSE & TRUE\\\\\n",
       "\tmanager.manager\\_135 & 2154.6250 & 0.01159756 & FALSE & TRUE\\\\\n",
       "\tstation\\_name.station\\_204 & 2154.6250 & 0.01159756 & FALSE & TRUE\\\\\n",
       "\tstation\\_name.station\\_42 & 1723.5000 & 0.01159756 & FALSE & TRUE\\\\\n",
       "\tmanager.manager\\_137 & 1566.7273 & 0.01159756 & FALSE & TRUE\\\\\n",
       "\tstation\\_name.station\\_206 & 1566.7273 & 0.01159756 & FALSE & TRUE\\\\\n",
       "\tmanager.manager\\_101 & 1325.5385 & 0.01159756 & FALSE & TRUE\\\\\n",
       "\tcompany.Energy Rete & 1230.7857 & 0.01159756 & FALSE & TRUE\\\\\n",
       "\tmanager.manager\\_134 & 1230.7857 & 0.01159756 & FALSE & TRUE\\\\\n",
       "\tmanager.manager\\_69 & 1230.7857 & 0.01159756 & FALSE & TRUE\\\\\n",
       "\tstation\\_name.station\\_139 & 1230.7857 & 0.01159756 & FALSE & TRUE\\\\\n",
       "\tstation\\_name.station\\_203 & 1230.7857 & 0.01159756 & FALSE & TRUE\\\\\n",
       "\tmanager.manager\\_138 & 1076.8125 & 0.01159756 & FALSE & TRUE\\\\\n",
       "\tmanager.manager\\_124 &  957.0556 & 0.01159756 & FALSE & TRUE\\\\\n",
       "\tstation\\_name.station\\_194 &  957.0556 & 0.01159756 & FALSE & TRUE\\\\\n",
       "\tmanager.manager\\_116 &  906.6316 & 0.01159756 & FALSE & TRUE\\\\\n",
       "\tstation\\_name.station\\_185 &  906.6316 & 0.01159756 & FALSE & TRUE\\\\\n",
       "\tmanager.manager\\_132 &  861.2500 & 0.01159756 & FALSE & TRUE\\\\\n",
       "\tstation\\_name.station\\_200 &  861.2500 & 0.01159756 & FALSE & TRUE\\\\\n",
       "\tmanager.manager\\_109 &  782.8636 & 0.01159756 & FALSE & TRUE\\\\\n",
       "\tmanager.manager\\_19 &  748.7826 & 0.01159756 & FALSE & TRUE\\\\\n",
       "\tstation\\_name.station\\_22 &  748.7826 & 0.01159756 & FALSE & TRUE\\\\\n",
       "\tmanager.manager\\_8 &  717.5417 & 0.01159756 & FALSE & TRUE\\\\\n",
       "\tstation\\_name.station\\_8 &  717.5417 & 0.01159756 & FALSE & TRUE\\\\\n",
       "\tstation\\_name.station\\_192 &  662.2692 & 0.01159756 & FALSE & TRUE\\\\\n",
       "\tstation\\_name.station\\_164 &  637.7037 & 0.01159756 & FALSE & TRUE\\\\\n",
       "\t⋮ & ⋮ & ⋮ & ⋮ & ⋮\\\\\n",
       "\tcompany.Beyfin & 81.511962 & 0.01159756 & FALSE &  TRUE\\\\\n",
       "\tstation\\_name.station\\_16 & 81.119048 & 0.01159756 & FALSE &  TRUE\\\\\n",
       "\tmanager.manager\\_42 & 80.344340 & 0.01159756 & FALSE &  TRUE\\\\\n",
       "\tstation\\_name.station\\_74 & 80.344340 & 0.01159756 & FALSE &  TRUE\\\\\n",
       "\tstation\\_name.station\\_83 & 80.344340 & 0.01159756 & FALSE &  TRUE\\\\\n",
       "\tstation\\_name.station\\_79 & 78.837963 & 0.01159756 & FALSE &  TRUE\\\\\n",
       "\tstation\\_name.station\\_93 & 78.837963 & 0.01159756 & FALSE &  TRUE\\\\\n",
       "\tstation\\_name.station\\_72 & 78.105505 & 0.01159756 & FALSE &  TRUE\\\\\n",
       "\tstation\\_name.station\\_77 & 78.105505 & 0.01159756 & FALSE &  TRUE\\\\\n",
       "\tstation\\_name.station\\_81 & 78.105505 & 0.01159756 & FALSE &  TRUE\\\\\n",
       "\tstation\\_name.station\\_15 & 72.072034 & 0.01159756 & FALSE &  TRUE\\\\\n",
       "\tstation\\_name.station\\_2 & 71.457983 & 0.01159756 & FALSE &  TRUE\\\\\n",
       "\tstation\\_name.station\\_45 & 67.432540 & 0.01159756 & FALSE &  TRUE\\\\\n",
       "\tmanager.manager\\_3 & 65.841085 & 0.01159756 & FALSE &  TRUE\\\\\n",
       "\tstation\\_name.station\\_47 & 56.102649 & 0.01159756 & FALSE &  TRUE\\\\\n",
       "\tcompany.Pompe Bianche & 53.746032 & 0.01159756 & FALSE &  TRUE\\\\\n",
       "\tmanager.manager\\_34 & 44.143979 & 0.01159756 & FALSE &  TRUE\\\\\n",
       "\tmanager.manager\\_53 & 42.992347 & 0.01159756 & FALSE &  TRUE\\\\\n",
       "\tmanager.manager\\_7 & 39.864929 & 0.01159756 & FALSE &  TRUE\\\\\n",
       "\tcompany.OIL ONE & 32.036398 & 0.01159756 & FALSE &  TRUE\\\\\n",
       "\tmanager.manager\\_50 & 26.769726 & 0.01159756 & FALSE &  TRUE\\\\\n",
       "\tcompany.KEROPETROL & 19.384161 & 0.01159756 & FALSE &  TRUE\\\\\n",
       "\tmanager.manager\\_22 & 13.904927 & 0.01159756 & FALSE & FALSE\\\\\n",
       "\tmanager.manager\\_36 & 10.512016 & 0.01159756 & FALSE & FALSE\\\\\n",
       "\tcompany.Q8 &  8.231799 & 0.01159756 & FALSE & FALSE\\\\\n",
       "\tmanager.manager\\_24 &  6.965358 & 0.01159756 & FALSE & FALSE\\\\\n",
       "\tcompany.Tamoil &  5.055126 & 0.01159756 & FALSE & FALSE\\\\\n",
       "\tcompany.Esso &  4.794691 & 0.01159756 & FALSE & FALSE\\\\\n",
       "\tcompany.Agip Eni &  4.000000 & 0.01159756 & FALSE & FALSE\\\\\n",
       "\tcompany.Api-Ip &  3.681053 & 0.01159756 & FALSE & FALSE\\\\\n",
       "\\end{tabular}\n"
      ],
      "text/markdown": [
       "\n",
       "A data.frame: 366 × 4\n",
       "\n",
       "| <!--/--> | freqRatio &lt;dbl&gt; | percentUnique &lt;dbl&gt; | zeroVar &lt;lgl&gt; | nzv &lt;lgl&gt; |\n",
       "|---|---|---|---|---|\n",
       "| manager.manager_126 | 8621.5000 | 0.01159756 | FALSE | TRUE |\n",
       "| manager.manager_140 | 8621.5000 | 0.01159756 | FALSE | TRUE |\n",
       "| manager.manager_127 | 2873.1667 | 0.01159756 | FALSE | TRUE |\n",
       "| station_name.station_197 | 2873.1667 | 0.01159756 | FALSE | TRUE |\n",
       "| station_name.station_85 | 2873.1667 | 0.01159756 | FALSE | TRUE |\n",
       "| manager.manager_135 | 2154.6250 | 0.01159756 | FALSE | TRUE |\n",
       "| station_name.station_204 | 2154.6250 | 0.01159756 | FALSE | TRUE |\n",
       "| station_name.station_42 | 1723.5000 | 0.01159756 | FALSE | TRUE |\n",
       "| manager.manager_137 | 1566.7273 | 0.01159756 | FALSE | TRUE |\n",
       "| station_name.station_206 | 1566.7273 | 0.01159756 | FALSE | TRUE |\n",
       "| manager.manager_101 | 1325.5385 | 0.01159756 | FALSE | TRUE |\n",
       "| company.Energy Rete | 1230.7857 | 0.01159756 | FALSE | TRUE |\n",
       "| manager.manager_134 | 1230.7857 | 0.01159756 | FALSE | TRUE |\n",
       "| manager.manager_69 | 1230.7857 | 0.01159756 | FALSE | TRUE |\n",
       "| station_name.station_139 | 1230.7857 | 0.01159756 | FALSE | TRUE |\n",
       "| station_name.station_203 | 1230.7857 | 0.01159756 | FALSE | TRUE |\n",
       "| manager.manager_138 | 1076.8125 | 0.01159756 | FALSE | TRUE |\n",
       "| manager.manager_124 |  957.0556 | 0.01159756 | FALSE | TRUE |\n",
       "| station_name.station_194 |  957.0556 | 0.01159756 | FALSE | TRUE |\n",
       "| manager.manager_116 |  906.6316 | 0.01159756 | FALSE | TRUE |\n",
       "| station_name.station_185 |  906.6316 | 0.01159756 | FALSE | TRUE |\n",
       "| manager.manager_132 |  861.2500 | 0.01159756 | FALSE | TRUE |\n",
       "| station_name.station_200 |  861.2500 | 0.01159756 | FALSE | TRUE |\n",
       "| manager.manager_109 |  782.8636 | 0.01159756 | FALSE | TRUE |\n",
       "| manager.manager_19 |  748.7826 | 0.01159756 | FALSE | TRUE |\n",
       "| station_name.station_22 |  748.7826 | 0.01159756 | FALSE | TRUE |\n",
       "| manager.manager_8 |  717.5417 | 0.01159756 | FALSE | TRUE |\n",
       "| station_name.station_8 |  717.5417 | 0.01159756 | FALSE | TRUE |\n",
       "| station_name.station_192 |  662.2692 | 0.01159756 | FALSE | TRUE |\n",
       "| station_name.station_164 |  637.7037 | 0.01159756 | FALSE | TRUE |\n",
       "| ⋮ | ⋮ | ⋮ | ⋮ | ⋮ |\n",
       "| company.Beyfin | 81.511962 | 0.01159756 | FALSE |  TRUE |\n",
       "| station_name.station_16 | 81.119048 | 0.01159756 | FALSE |  TRUE |\n",
       "| manager.manager_42 | 80.344340 | 0.01159756 | FALSE |  TRUE |\n",
       "| station_name.station_74 | 80.344340 | 0.01159756 | FALSE |  TRUE |\n",
       "| station_name.station_83 | 80.344340 | 0.01159756 | FALSE |  TRUE |\n",
       "| station_name.station_79 | 78.837963 | 0.01159756 | FALSE |  TRUE |\n",
       "| station_name.station_93 | 78.837963 | 0.01159756 | FALSE |  TRUE |\n",
       "| station_name.station_72 | 78.105505 | 0.01159756 | FALSE |  TRUE |\n",
       "| station_name.station_77 | 78.105505 | 0.01159756 | FALSE |  TRUE |\n",
       "| station_name.station_81 | 78.105505 | 0.01159756 | FALSE |  TRUE |\n",
       "| station_name.station_15 | 72.072034 | 0.01159756 | FALSE |  TRUE |\n",
       "| station_name.station_2 | 71.457983 | 0.01159756 | FALSE |  TRUE |\n",
       "| station_name.station_45 | 67.432540 | 0.01159756 | FALSE |  TRUE |\n",
       "| manager.manager_3 | 65.841085 | 0.01159756 | FALSE |  TRUE |\n",
       "| station_name.station_47 | 56.102649 | 0.01159756 | FALSE |  TRUE |\n",
       "| company.Pompe Bianche | 53.746032 | 0.01159756 | FALSE |  TRUE |\n",
       "| manager.manager_34 | 44.143979 | 0.01159756 | FALSE |  TRUE |\n",
       "| manager.manager_53 | 42.992347 | 0.01159756 | FALSE |  TRUE |\n",
       "| manager.manager_7 | 39.864929 | 0.01159756 | FALSE |  TRUE |\n",
       "| company.OIL ONE | 32.036398 | 0.01159756 | FALSE |  TRUE |\n",
       "| manager.manager_50 | 26.769726 | 0.01159756 | FALSE |  TRUE |\n",
       "| company.KEROPETROL | 19.384161 | 0.01159756 | FALSE |  TRUE |\n",
       "| manager.manager_22 | 13.904927 | 0.01159756 | FALSE | FALSE |\n",
       "| manager.manager_36 | 10.512016 | 0.01159756 | FALSE | FALSE |\n",
       "| company.Q8 |  8.231799 | 0.01159756 | FALSE | FALSE |\n",
       "| manager.manager_24 |  6.965358 | 0.01159756 | FALSE | FALSE |\n",
       "| company.Tamoil |  5.055126 | 0.01159756 | FALSE | FALSE |\n",
       "| company.Esso |  4.794691 | 0.01159756 | FALSE | FALSE |\n",
       "| company.Agip Eni |  4.000000 | 0.01159756 | FALSE | FALSE |\n",
       "| company.Api-Ip |  3.681053 | 0.01159756 | FALSE | FALSE |\n",
       "\n"
      ],
      "text/plain": [
       "                         freqRatio percentUnique zeroVar nzv  \n",
       "manager.manager_126      8621.5000 0.01159756    FALSE   TRUE \n",
       "manager.manager_140      8621.5000 0.01159756    FALSE   TRUE \n",
       "manager.manager_127      2873.1667 0.01159756    FALSE   TRUE \n",
       "station_name.station_197 2873.1667 0.01159756    FALSE   TRUE \n",
       "station_name.station_85  2873.1667 0.01159756    FALSE   TRUE \n",
       "manager.manager_135      2154.6250 0.01159756    FALSE   TRUE \n",
       "station_name.station_204 2154.6250 0.01159756    FALSE   TRUE \n",
       "station_name.station_42  1723.5000 0.01159756    FALSE   TRUE \n",
       "manager.manager_137      1566.7273 0.01159756    FALSE   TRUE \n",
       "station_name.station_206 1566.7273 0.01159756    FALSE   TRUE \n",
       "manager.manager_101      1325.5385 0.01159756    FALSE   TRUE \n",
       "company.Energy Rete      1230.7857 0.01159756    FALSE   TRUE \n",
       "manager.manager_134      1230.7857 0.01159756    FALSE   TRUE \n",
       "manager.manager_69       1230.7857 0.01159756    FALSE   TRUE \n",
       "station_name.station_139 1230.7857 0.01159756    FALSE   TRUE \n",
       "station_name.station_203 1230.7857 0.01159756    FALSE   TRUE \n",
       "manager.manager_138      1076.8125 0.01159756    FALSE   TRUE \n",
       "manager.manager_124       957.0556 0.01159756    FALSE   TRUE \n",
       "station_name.station_194  957.0556 0.01159756    FALSE   TRUE \n",
       "manager.manager_116       906.6316 0.01159756    FALSE   TRUE \n",
       "station_name.station_185  906.6316 0.01159756    FALSE   TRUE \n",
       "manager.manager_132       861.2500 0.01159756    FALSE   TRUE \n",
       "station_name.station_200  861.2500 0.01159756    FALSE   TRUE \n",
       "manager.manager_109       782.8636 0.01159756    FALSE   TRUE \n",
       "manager.manager_19        748.7826 0.01159756    FALSE   TRUE \n",
       "station_name.station_22   748.7826 0.01159756    FALSE   TRUE \n",
       "manager.manager_8         717.5417 0.01159756    FALSE   TRUE \n",
       "station_name.station_8    717.5417 0.01159756    FALSE   TRUE \n",
       "station_name.station_192  662.2692 0.01159756    FALSE   TRUE \n",
       "station_name.station_164  637.7037 0.01159756    FALSE   TRUE \n",
       "⋮                        ⋮         ⋮             ⋮       ⋮    \n",
       "company.Beyfin           81.511962 0.01159756    FALSE    TRUE\n",
       "station_name.station_16  81.119048 0.01159756    FALSE    TRUE\n",
       "manager.manager_42       80.344340 0.01159756    FALSE    TRUE\n",
       "station_name.station_74  80.344340 0.01159756    FALSE    TRUE\n",
       "station_name.station_83  80.344340 0.01159756    FALSE    TRUE\n",
       "station_name.station_79  78.837963 0.01159756    FALSE    TRUE\n",
       "station_name.station_93  78.837963 0.01159756    FALSE    TRUE\n",
       "station_name.station_72  78.105505 0.01159756    FALSE    TRUE\n",
       "station_name.station_77  78.105505 0.01159756    FALSE    TRUE\n",
       "station_name.station_81  78.105505 0.01159756    FALSE    TRUE\n",
       "station_name.station_15  72.072034 0.01159756    FALSE    TRUE\n",
       "station_name.station_2   71.457983 0.01159756    FALSE    TRUE\n",
       "station_name.station_45  67.432540 0.01159756    FALSE    TRUE\n",
       "manager.manager_3        65.841085 0.01159756    FALSE    TRUE\n",
       "station_name.station_47  56.102649 0.01159756    FALSE    TRUE\n",
       "company.Pompe Bianche    53.746032 0.01159756    FALSE    TRUE\n",
       "manager.manager_34       44.143979 0.01159756    FALSE    TRUE\n",
       "manager.manager_53       42.992347 0.01159756    FALSE    TRUE\n",
       "manager.manager_7        39.864929 0.01159756    FALSE    TRUE\n",
       "company.OIL ONE          32.036398 0.01159756    FALSE    TRUE\n",
       "manager.manager_50       26.769726 0.01159756    FALSE    TRUE\n",
       "company.KEROPETROL       19.384161 0.01159756    FALSE    TRUE\n",
       "manager.manager_22       13.904927 0.01159756    FALSE   FALSE\n",
       "manager.manager_36       10.512016 0.01159756    FALSE   FALSE\n",
       "company.Q8                8.231799 0.01159756    FALSE   FALSE\n",
       "manager.manager_24        6.965358 0.01159756    FALSE   FALSE\n",
       "company.Tamoil            5.055126 0.01159756    FALSE   FALSE\n",
       "company.Esso              4.794691 0.01159756    FALSE   FALSE\n",
       "company.Agip Eni          4.000000 0.01159756    FALSE   FALSE\n",
       "company.Api-Ip            3.681053 0.01159756    FALSE   FALSE"
      ]
     },
     "metadata": {},
     "output_type": "display_data"
    }
   ],
   "source": [
    "nzv.stat[order(nzv.stat$freqRatio, decreasing=T),] "
   ]
  },
  {
   "cell_type": "code",
   "execution_count": 7,
   "id": "9935259e",
   "metadata": {
    "vscode": {
     "languageId": "r"
    }
   },
   "outputs": [],
   "source": [
    "all.binary_var <- all.binary_var[, -all.nzv]\n",
    "all.binary_var <- as.data.frame(all.binary_var)\n",
    "df_binary_factor <- data.frame(lapply(all.binary_var, factor))"
   ]
  },
  {
   "cell_type": "code",
   "execution_count": 8,
   "id": "661c01db",
   "metadata": {
    "vscode": {
     "languageId": "r"
    }
   },
   "outputs": [],
   "source": [
    "df_original_vars <- select(train_raw, self_service, station_category, latitude, longitude, price, date, day, hour, minute, week_day)\n",
    "training_data <- cbind(df_binary_factor,df_original_vars)"
   ]
  },
  {
   "cell_type": "code",
   "execution_count": 9,
   "id": "abb6adeb",
   "metadata": {
    "vscode": {
     "languageId": "r"
    }
   },
   "outputs": [],
   "source": [
    "#Create a test set with the binary variables identical to the training dataset.\n",
    "test.binary_var <- predict(all.dummies, newdata = X_val)\n",
    "test.binary_var <- test.binary_var[, -all.nzv]\n",
    "test.binary_var <- as.data.frame(test.binary_var)\n",
    "test_binary_var <- data.frame(lapply(test.binary_var, factor))\n",
    "test_original_vars <- select(X_val, self_service, station_category, latitude, longitude, price, date, day, hour, minute, week_day)\n",
    "val_data <- cbind(test_binary_var,test_original_vars)"
   ]
  },
  {
   "cell_type": "code",
   "execution_count": 10,
   "id": "ef9f131a",
   "metadata": {
    "vscode": {
     "languageId": "r"
    }
   },
   "outputs": [],
   "source": [
    "#Create a test set with the binary variables identical to the training dataset.\n",
    "test.binary_var <- predict(all.dummies, newdata = X_test)\n",
    "test.binary_var <- test.binary_var[, -all.nzv]\n",
    "test.binary_var <- as.data.frame(test.binary_var)\n",
    "test_binary_var <- data.frame(lapply(test.binary_var, factor))\n",
    "test_original_vars <- select(X_test, self_service, station_category, latitude, longitude, price, date, day, hour, minute, week_day)\n",
    "test_data <- cbind(test_binary_var,test_original_vars)"
   ]
  },
  {
   "cell_type": "markdown",
   "id": "c4af5b8f",
   "metadata": {},
   "source": [
    "### model development"
   ]
  },
  {
   "cell_type": "markdown",
   "id": "38214b73",
   "metadata": {},
   "source": [
    "Random forest model development steps will be as follow:\n",
    "1. First, we will train full model and use it as base to do further imporvment.\n",
    "2. Using different subset of important variables to rettain the model.\n",
    "3. Tuning mtry parameter.\n",
    "4. Tuning ntree parameter.\n",
    "5. Training final model with the best parameters.\n",
    "\n",
    "Model evaluation, normally we will use either cross validation to estimate generalised error or train test split. However, cross validation is computationally expensive. Hence, for features selection, I will use train test split method by using labelled data as training data and kaggle validation data as test data."
   ]
  },
  {
   "cell_type": "markdown",
   "id": "d938c459",
   "metadata": {},
   "source": [
    "**Training full model**\n",
    "Train model using all features."
   ]
  },
  {
   "cell_type": "code",
   "execution_count": 21,
   "id": "da031613",
   "metadata": {
    "vscode": {
     "languageId": "r"
    }
   },
   "outputs": [],
   "source": [
    "set.seed(1)\n",
    "rf_model <- randomForest(price ~ ., data = training_data, ntree = 100, mtry = sqrt(ncol(training_data) - 1))"
   ]
  },
  {
   "cell_type": "markdown",
   "id": "5857f5c0",
   "metadata": {},
   "source": [
    "**Important features**"
   ]
  },
  {
   "cell_type": "markdown",
   "id": "e04c9d0a",
   "metadata": {},
   "source": [
    "Next, we will use **importance** to find most impotant features. The importance function will find out the most informative features."
   ]
  },
  {
   "cell_type": "code",
   "execution_count": 22,
   "id": "b2a00983",
   "metadata": {
    "vscode": {
     "languageId": "r"
    }
   },
   "outputs": [],
   "source": [
    "feature_importance <- importance(rf_model)\n",
    "importance_df <- data.frame(Feature = rownames(feature_importance),\n",
    "                            Importance = feature_importance[, 1])"
   ]
  },
  {
   "cell_type": "code",
   "execution_count": 23,
   "id": "086c8921",
   "metadata": {
    "vscode": {
     "languageId": "r"
    }
   },
   "outputs": [
    {
     "data": {
      "text/html": [
       "<table class=\"dataframe\">\n",
       "<caption>A data.frame: 10 × 2</caption>\n",
       "<thead>\n",
       "\t<tr><th></th><th scope=col>Feature</th><th scope=col>Importance</th></tr>\n",
       "\t<tr><th></th><th scope=col>&lt;chr&gt;</th><th scope=col>&lt;dbl&gt;</th></tr>\n",
       "</thead>\n",
       "<tbody>\n",
       "\t<tr><th scope=row>date</th><td>date                    </td><td>74.505274</td></tr>\n",
       "\t<tr><th scope=row>day</th><td>day                     </td><td>72.140652</td></tr>\n",
       "\t<tr><th scope=row>self_service</th><td>self_service            </td><td>45.782627</td></tr>\n",
       "\t<tr><th scope=row>latitude</th><td>latitude                </td><td> 7.962509</td></tr>\n",
       "\t<tr><th scope=row>hour</th><td>hour                    </td><td> 7.885132</td></tr>\n",
       "\t<tr><th scope=row>company.Agip.Eni</th><td>company.Agip.Eni        </td><td> 6.878203</td></tr>\n",
       "\t<tr><th scope=row>week_day</th><td>week_day                </td><td> 6.859066</td></tr>\n",
       "\t<tr><th scope=row>minute</th><td>minute                  </td><td> 6.190987</td></tr>\n",
       "\t<tr><th scope=row>longitude</th><td>longitude               </td><td> 5.467282</td></tr>\n",
       "\t<tr><th scope=row>station_name.station_207</th><td>station_name.station_207</td><td> 4.555407</td></tr>\n",
       "</tbody>\n",
       "</table>\n"
      ],
      "text/latex": [
       "A data.frame: 10 × 2\n",
       "\\begin{tabular}{r|ll}\n",
       "  & Feature & Importance\\\\\n",
       "  & <chr> & <dbl>\\\\\n",
       "\\hline\n",
       "\tdate & date                     & 74.505274\\\\\n",
       "\tday & day                      & 72.140652\\\\\n",
       "\tself\\_service & self\\_service             & 45.782627\\\\\n",
       "\tlatitude & latitude                 &  7.962509\\\\\n",
       "\thour & hour                     &  7.885132\\\\\n",
       "\tcompany.Agip.Eni & company.Agip.Eni         &  6.878203\\\\\n",
       "\tweek\\_day & week\\_day                 &  6.859066\\\\\n",
       "\tminute & minute                   &  6.190987\\\\\n",
       "\tlongitude & longitude                &  5.467282\\\\\n",
       "\tstation\\_name.station\\_207 & station\\_name.station\\_207 &  4.555407\\\\\n",
       "\\end{tabular}\n"
      ],
      "text/markdown": [
       "\n",
       "A data.frame: 10 × 2\n",
       "\n",
       "| <!--/--> | Feature &lt;chr&gt; | Importance &lt;dbl&gt; |\n",
       "|---|---|---|\n",
       "| date | date                     | 74.505274 |\n",
       "| day | day                      | 72.140652 |\n",
       "| self_service | self_service             | 45.782627 |\n",
       "| latitude | latitude                 |  7.962509 |\n",
       "| hour | hour                     |  7.885132 |\n",
       "| company.Agip.Eni | company.Agip.Eni         |  6.878203 |\n",
       "| week_day | week_day                 |  6.859066 |\n",
       "| minute | minute                   |  6.190987 |\n",
       "| longitude | longitude                |  5.467282 |\n",
       "| station_name.station_207 | station_name.station_207 |  4.555407 |\n",
       "\n"
      ],
      "text/plain": [
       "                         Feature                  Importance\n",
       "date                     date                     74.505274 \n",
       "day                      day                      72.140652 \n",
       "self_service             self_service             45.782627 \n",
       "latitude                 latitude                  7.962509 \n",
       "hour                     hour                      7.885132 \n",
       "company.Agip.Eni         company.Agip.Eni          6.878203 \n",
       "week_day                 week_day                  6.859066 \n",
       "minute                   minute                    6.190987 \n",
       "longitude                longitude                 5.467282 \n",
       "station_name.station_207 station_name.station_207  4.555407 "
      ]
     },
     "metadata": {},
     "output_type": "display_data"
    }
   ],
   "source": [
    "# find the features in decreasing orders of importance\n",
    "# importance_df[order(importance_df$Importance, decreasing = TRUE), ]\n",
    "importance_df[order(importance_df$Importance, decreasing = TRUE), ][1:10,]"
   ]
  },
  {
   "cell_type": "markdown",
   "id": "d4b68783",
   "metadata": {},
   "source": [
    "Ploting importance of each variable. From the plot, we can see that features after top 20 showing insignificant impact RSS reduction."
   ]
  },
  {
   "cell_type": "code",
   "execution_count": 24,
   "id": "47bc2005",
   "metadata": {
    "vscode": {
     "languageId": "r"
    }
   },
   "outputs": [
    {
     "data": {
      "image/png": "[encoded data removed]",
      "text/plain": [
       "plot without title"
      ]
     },
     "metadata": {
      "image/png": {
       "height": 420,
       "width": 420
      }
     },
     "output_type": "display_data"
    }
   ],
   "source": [
    "importance_df %>%\n",
    "  ggplot(aes(x = reorder(Feature, -Importance), y = Importance)) +\n",
    "  geom_col(fill = \"red\", color = \"black\") +\n",
    "  labs(x = \"Feature\", y = \"Importance\") +\n",
    "  ggtitle(\"Feature Importance\") +\n",
    "  theme(axis.text.x = element_blank()) \n"
   ]
  },
  {
   "cell_type": "markdown",
   "id": "a7a61e5f",
   "metadata": {},
   "source": [
    "Hence, we choose to train model with top20, 10, 8, 7, and 6 repectively to see if there is an impact on RMSE."
   ]
  },
  {
   "cell_type": "code",
   "execution_count": 25,
   "id": "cfdb7dee",
   "metadata": {
    "vscode": {
     "languageId": "r"
    }
   },
   "outputs": [],
   "source": [
    "# models for differnt top features\n",
    "num_top <- c(20, 10, 8, 7, 6)\n",
    "top_model_list <- list()\n",
    "\n",
    "for (num in num_top){\n",
    "    train_top_data <- NULL  # initialize train_top_data as NULL\n",
    "    top_feature <- importance_df[order(importance_df$Importance, decreasing = TRUE),][, 1][1:num]\n",
    "    train_top_data <- training_data %>% select(top_feature, price)\n",
    "    \n",
    "    rf_model <- randomForest(price ~ .,\n",
    "                                  data = train_top_data,\n",
    "                                  ntree = 100, \n",
    "                                  mtry = sqrt(ncol(train_top_data) - 1))\n",
    "    \n",
    "    top_model_list[[as.character(num)]] <- rf_model \n",
    "}"
   ]
  },
  {
   "cell_type": "markdown",
   "id": "c2ec1adc",
   "metadata": {},
   "source": [
    "From Kagglem, recevied RMSE score as follow:\n",
    "\n",
    "    * Full model, 0.19902\n",
    "    * Top20, 0.15918\n",
    "    * Top10, 0.13533\n",
    "    * Top8, 0.12014\n",
    "    * Top7, 0.10183\n",
    "    * Top6, 0.14368"
   ]
  },
  {
   "cell_type": "markdown",
   "id": "27369aa9",
   "metadata": {},
   "source": [
    "Ideally, we should do models selection by doing cross validation, however, wait time for training is incredible long. Hence, we will use Kaggle validation data as hold-out dataset and use Kaggle RMSE as measurement. We finally select the top 7 features, because the model has balance between performance and complxity."
   ]
  },
  {
   "cell_type": "markdown",
   "id": "d3b89c8c",
   "metadata": {},
   "source": [
    "**mtry tuning**"
   ]
  },
  {
   "cell_type": "markdown",
   "id": "e949267c",
   "metadata": {},
   "source": [
    "mtry is a number that random forest use for randomly choosing when constructing trees. The right number of mtry will lead to the model performance, hence in this section we will use grid search to find the best ntree number. In addition, we will use the built-in cross validation from caret to find the best mtry."
   ]
  },
  {
   "cell_type": "code",
   "execution_count": 26,
   "id": "5c0f8c8c",
   "metadata": {
    "vscode": {
     "languageId": "r"
    }
   },
   "outputs": [],
   "source": [
    "top7_features <- importance_df[order(importance_df$Importance, decreasing = TRUE),][, 1][1:7]"
   ]
  },
  {
   "cell_type": "code",
   "execution_count": 27,
   "id": "da2c532c",
   "metadata": {
    "vscode": {
     "languageId": "r"
    }
   },
   "outputs": [
    {
     "data": {
      "text/html": [
       "<style>\n",
       ".list-inline {list-style: none; margin:0; padding: 0}\n",
       ".list-inline>li {display: inline-block}\n",
       ".list-inline>li:not(:last-child)::after {content: \"\\00b7\"; padding: 0 .5ex}\n",
       "</style>\n",
       "<ol class=list-inline><li>'date'</li><li>'day'</li><li>'self_service'</li><li>'latitude'</li><li>'hour'</li><li>'company.Agip.Eni'</li><li>'week_day'</li></ol>\n"
      ],
      "text/latex": [
       "\\begin{enumerate*}\n",
       "\\item 'date'\n",
       "\\item 'day'\n",
       "\\item 'self\\_service'\n",
       "\\item 'latitude'\n",
       "\\item 'hour'\n",
       "\\item 'company.Agip.Eni'\n",
       "\\item 'week\\_day'\n",
       "\\end{enumerate*}\n"
      ],
      "text/markdown": [
       "1. 'date'\n",
       "2. 'day'\n",
       "3. 'self_service'\n",
       "4. 'latitude'\n",
       "5. 'hour'\n",
       "6. 'company.Agip.Eni'\n",
       "7. 'week_day'\n",
       "\n",
       "\n"
      ],
      "text/plain": [
       "[1] \"date\"             \"day\"              \"self_service\"     \"latitude\"        \n",
       "[5] \"hour\"             \"company.Agip.Eni\" \"week_day\"        "
      ]
     },
     "metadata": {},
     "output_type": "display_data"
    }
   ],
   "source": [
    "top7_features"
   ]
  },
  {
   "cell_type": "code",
   "execution_count": 11,
   "id": "0e83faf9",
   "metadata": {
    "vscode": {
     "languageId": "r"
    }
   },
   "outputs": [],
   "source": [
    "top7_features <- c('date','day','self_service','latitude','hour','company.Agip.Eni','week_day')"
   ]
  },
  {
   "cell_type": "code",
   "execution_count": 12,
   "id": "955cfcee",
   "metadata": {
    "vscode": {
     "languageId": "r"
    }
   },
   "outputs": [],
   "source": [
    "# choose top 7 features\n",
    "training_data <- training_data %>% select(top7_features, price)"
   ]
  },
  {
   "cell_type": "code",
   "execution_count": 29,
   "id": "e41e9fb3",
   "metadata": {
    "vscode": {
     "languageId": "r"
    }
   },
   "outputs": [
    {
     "name": "stdout",
     "output_type": "stream",
     "text": [
      "Random Forest \n",
      "\n",
      "17245 samples\n",
      "    7 predictor\n",
      "\n",
      "No pre-processing\n",
      "Resampling: Cross-Validated (10 fold, repeated 1 times) \n",
      "Summary of sample sizes: 15522, 15520, 15521, 15519, 15520, 15522, ... \n",
      "Resampling results across tuning parameters:\n",
      "\n",
      "  mtry  RMSE        Rsquared   MAE       \n",
      "  1     0.13732612  0.6197818  0.11073558\n",
      "  2     0.09521312  0.7561300  0.06857639\n",
      "  3     0.07958917  0.7933642  0.05037286\n",
      "  4     0.07523749  0.8080648  0.04498497\n",
      "  5     0.07256335  0.8203852  0.04220882\n",
      "  6     0.07072296  0.8290921  0.04004167\n",
      "  7     0.06902388  0.8371526  0.03813520\n",
      "\n",
      "RMSE was used to select the optimal model using the smallest value.\n",
      "The final value used for the model was mtry = 7.\n"
     ]
    },
    {
     "data": {
      "image/png": "[encoded data removed]",
      "text/plain": [
       "plot without title"
      ]
     },
     "metadata": {
      "image/png": {
       "height": 420,
       "width": 420
      }
     },
     "output_type": "display_data"
    }
   ],
   "source": [
    "# fine tune mtry\n",
    "control <- trainControl(method=\"repeatedcv\", number=10, search=\"grid\")\n",
    "\n",
    "set.seed(1)\n",
    "tunegrid <- expand.grid(.mtry=c(1:7))\n",
    "rf_gridsearch <- train(price~., data=training_data, method=\"rf\", metric= \"RMSE\", tuneGrid=tunegrid, trControl=control, ntree=100)\n",
    "print(rf_gridsearch)\n",
    "plot(rf_gridsearch)"
   ]
  },
  {
   "cell_type": "markdown",
   "id": "76c9cceb",
   "metadata": {},
   "source": [
    "From the plot, we can clearly see that when mtry is 7(bagging case) will provide the least average RMSE error. Next we will retrain model using top 7 features and mtry 7 and see the result on Kaggle."
   ]
  },
  {
   "cell_type": "code",
   "execution_count": 30,
   "id": "fb6e1810",
   "metadata": {
    "vscode": {
     "languageId": "r"
    }
   },
   "outputs": [],
   "source": [
    "# retain model\n",
    "rf_model_top_mtry <- randomForest(price ~ ., data = training_data, ntree = 100, mtry = 7)"
   ]
  },
  {
   "cell_type": "code",
   "execution_count": 31,
   "id": "3b329959",
   "metadata": {
    "vscode": {
     "languageId": "r"
    }
   },
   "outputs": [
    {
     "data": {
      "text/plain": [
       "\n",
       "Call:\n",
       " randomForest(formula = price ~ ., data = training_data, ntree = 100,      mtry = 7) \n",
       "               Type of random forest: regression\n",
       "                     Number of trees: 100\n",
       "No. of variables tried at each split: 7\n",
       "\n",
       "          Mean of squared residuals: 0.003764489\n",
       "                    % Var explained: 87.12"
      ]
     },
     "metadata": {},
     "output_type": "display_data"
    }
   ],
   "source": [
    "rf_model_top_mtry"
   ]
  },
  {
   "cell_type": "markdown",
   "id": "91d162f8",
   "metadata": {},
   "source": [
    "From RMSE on Kaggle, we can see that there is an improvement on model after using mtry = 7 which is scored 0.09432."
   ]
  },
  {
   "cell_type": "markdown",
   "id": "7139a530",
   "metadata": {},
   "source": [
    "**ntree tuning**"
   ]
  },
  {
   "cell_type": "markdown",
   "id": "60c0919b",
   "metadata": {},
   "source": [
    "In this section, we will use the same built-in function to search for the best ntree. Considering on training time, we will use only small list of ntree to see the effect of ntree."
   ]
  },
  {
   "cell_type": "code",
   "execution_count": 15,
   "id": "6682d960",
   "metadata": {
    "vscode": {
     "languageId": "r"
    }
   },
   "outputs": [],
   "source": [
    "# fine tune tree\n",
    "control <- trainControl(method = 'repeatedcv',\n",
    "                        number = 10,\n",
    "                        search = 'grid')\n",
    "\n",
    "\n",
    "tunegrid <- expand.grid(.mtry = c(7, 7, 7, 7, 7, 7))\n",
    "model_list <- list()\n",
    "\n",
    "# Felix: add 500 and 600\n",
    "for (ntree in c(50, 100, 150, 200, 250, 300)){\n",
    "  set.seed(1)\n",
    "  rf <- train(price~.,\n",
    "               data = training_data,\n",
    "               method = 'rf',\n",
    "               metric = 'RMSE',\n",
    "               tuneGrid = tunegrid,\n",
    "               trControl = control,\n",
    "               ntree = ntree)\n",
    "  key <- toString(ntree)\n",
    "  model_list[[key]] <- rf\n",
    "}"
   ]
  },
  {
   "cell_type": "code",
   "execution_count": 16,
   "id": "e9403a40",
   "metadata": {
    "scrolled": false,
    "vscode": {
     "languageId": "r"
    }
   },
   "outputs": [
    {
     "name": "stdout",
     "output_type": "stream",
     "text": [
      "$`50`\n",
      "Random Forest \n",
      "\n",
      "17245 samples\n",
      "    7 predictor\n",
      "\n",
      "No pre-processing\n",
      "Resampling: Cross-Validated (10 fold, repeated 1 times) \n",
      "Summary of sample sizes: 15522, 15520, 15521, 15519, 15520, 15522, ... \n",
      "Resampling results:\n",
      "\n",
      "  RMSE        Rsquared   MAE       \n",
      "  0.06913914  0.8365457  0.03829974\n",
      "\n",
      "Tuning parameter 'mtry' was held constant at a value of 7\n",
      "\n",
      "$`100`\n",
      "Random Forest \n",
      "\n",
      "17245 samples\n",
      "    7 predictor\n",
      "\n",
      "No pre-processing\n",
      "Resampling: Cross-Validated (10 fold, repeated 1 times) \n",
      "Summary of sample sizes: 15522, 15520, 15521, 15519, 15520, 15522, ... \n",
      "Resampling results:\n",
      "\n",
      "  RMSE        Rsquared   MAE      \n",
      "  0.06881356  0.8381347  0.0379738\n",
      "\n",
      "Tuning parameter 'mtry' was held constant at a value of 7\n",
      "\n",
      "$`150`\n",
      "Random Forest \n",
      "\n",
      "17245 samples\n",
      "    7 predictor\n",
      "\n",
      "No pre-processing\n",
      "Resampling: Cross-Validated (10 fold, repeated 1 times) \n",
      "Summary of sample sizes: 15522, 15520, 15521, 15519, 15520, 15522, ... \n",
      "Resampling results:\n",
      "\n",
      "  RMSE        Rsquared   MAE       \n",
      "  0.06875537  0.8384126  0.03792256\n",
      "\n",
      "Tuning parameter 'mtry' was held constant at a value of 7\n",
      "\n",
      "$`200`\n",
      "Random Forest \n",
      "\n",
      "17245 samples\n",
      "    7 predictor\n",
      "\n",
      "No pre-processing\n",
      "Resampling: Cross-Validated (10 fold, repeated 1 times) \n",
      "Summary of sample sizes: 15522, 15520, 15521, 15519, 15520, 15522, ... \n",
      "Resampling results:\n",
      "\n",
      "  RMSE        Rsquared   MAE       \n",
      "  0.06873673  0.8385013  0.03795127\n",
      "\n",
      "Tuning parameter 'mtry' was held constant at a value of 7\n",
      "\n",
      "$`250`\n",
      "Random Forest \n",
      "\n",
      "17245 samples\n",
      "    7 predictor\n",
      "\n",
      "No pre-processing\n",
      "Resampling: Cross-Validated (10 fold, repeated 1 times) \n",
      "Summary of sample sizes: 15522, 15520, 15521, 15519, 15520, 15522, ... \n",
      "Resampling results:\n",
      "\n",
      "  RMSE        Rsquared   MAE      \n",
      "  0.06872036  0.8385758  0.0379299\n",
      "\n",
      "Tuning parameter 'mtry' was held constant at a value of 7\n",
      "\n",
      "$`300`\n",
      "Random Forest \n",
      "\n",
      "17245 samples\n",
      "    7 predictor\n",
      "\n",
      "No pre-processing\n",
      "Resampling: Cross-Validated (10 fold, repeated 1 times) \n",
      "Summary of sample sizes: 15522, 15520, 15521, 15519, 15520, 15522, ... \n",
      "Resampling results:\n",
      "\n",
      "  RMSE        Rsquared   MAE       \n",
      "  0.06868757  0.8387335  0.03792247\n",
      "\n",
      "Tuning parameter 'mtry' was held constant at a value of 7\n",
      "\n"
     ]
    }
   ],
   "source": [
    "print(model_list)"
   ]
  },
  {
   "cell_type": "code",
   "execution_count": 17,
   "id": "7a6229bb",
   "metadata": {
    "scrolled": false,
    "vscode": {
     "languageId": "r"
    }
   },
   "outputs": [
    {
     "data": {
      "image/png": "[encoded data removed]",
      "text/plain": [
       "plot without title"
      ]
     },
     "metadata": {
      "image/png": {
       "height": 420,
       "width": 420
      }
     },
     "output_type": "display_data"
    }
   ],
   "source": [
    "tree_size <- seq(50, 300, by = 50)\n",
    "cv_RMSE <- c(0.06913914, 0.06881356, 0.06875537, 0.06873673,  0.06872036, 0.06868757 )\n",
    " \n",
    "tree_cv <- data.frame(Tree_Size = tree_size, CV_RMSE = cv_RMSE)\n",
    "\n",
    "tree_cv %>% \n",
    "  ggplot(aes(x = Tree_Size, y = CV_RMSE)) +\n",
    "  geom_line(color= \"red\") +\n",
    "  labs(x = \"Tree Size\", y = \"CV RMSE\")"
   ]
  },
  {
   "cell_type": "markdown",
   "id": "eb700115",
   "metadata": {},
   "source": [
    "As, we can see from the plot that at ntree number is 300 provide the least cross-validation RMSE. Hence, we will choose ntree 300 as the final number of ntree."
   ]
  },
  {
   "cell_type": "markdown",
   "id": "b8494415",
   "metadata": {},
   "source": [
    "**Final Random Forest model**"
   ]
  },
  {
   "cell_type": "markdown",
   "id": "6537a06f",
   "metadata": {},
   "source": [
    "Finally, we will combine tuned mtry and ntree to our final model. After testing on Kaggle, the performance improved slightly, 0.09348."
   ]
  },
  {
   "cell_type": "code",
   "execution_count": 19,
   "id": "f3c1aba0",
   "metadata": {
    "vscode": {
     "languageId": "r"
    }
   },
   "outputs": [],
   "source": [
    "set.seed(1)\n",
    "rf_final <- randomForest(price~., data= training_data, ntree= 300, mtry= 7)"
   ]
  },
  {
   "cell_type": "markdown",
   "id": "fd79dd84",
   "metadata": {},
   "source": [
    "**Corss validation**"
   ]
  },
  {
   "cell_type": "markdown",
   "id": "1e01cf97",
   "metadata": {},
   "source": [
    "To see tha generalised error of final random forest model."
   ]
  },
  {
   "cell_type": "code",
   "execution_count": 18,
   "id": "90840dd1",
   "metadata": {
    "vscode": {
     "languageId": "r"
    }
   },
   "outputs": [
    {
     "name": "stdout",
     "output_type": "stream",
     "text": [
      "Random Forest \n",
      "\n",
      "17245 samples\n",
      "    7 predictor\n",
      "\n",
      "No pre-processing\n",
      "Resampling: Cross-Validated (5 fold) \n",
      "Summary of sample sizes: 13797, 13796, 13797, 13795, 13795 \n",
      "Resampling results:\n",
      "\n",
      "  RMSE        Rsquared   MAE       \n",
      "  0.06943559  0.8348853  0.03864595\n",
      "\n",
      "Tuning parameter 'mtry' was held constant at a value of 7\n"
     ]
    },
    {
     "ename": "ERROR",
     "evalue": "Error in plot.train(rf_gridsearch): There are no tuning parameters with more than 1 value.\n",
     "output_type": "error",
     "traceback": [
      "Error in plot.train(rf_gridsearch): There are no tuning parameters with more than 1 value.\nTraceback:\n",
      "1. plot(rf_gridsearch)",
      "2. plot.train(rf_gridsearch)",
      "3. stop(plotIt)"
     ]
    }
   ],
   "source": [
    "# fine tune mtry\n",
    "control <- trainControl(method=\"cv\", number=5, search=\"grid\")\n",
    "\n",
    "set.seed(1)\n",
    "tunegrid <- expand.grid(.mtry = c(7, 7, 7, 7, 7, 7))\n",
    "rf_gridsearch <- train(price~., data=training_data, method=\"rf\", metric= \"RMSE\", tuneGrid=tunegrid, trControl=control, ntree=200)\n",
    "print(rf_gridsearch)"
   ]
  },
  {
   "cell_type": "markdown",
   "id": "59a2f851",
   "metadata": {},
   "source": [
    "**The final random forest model has an average RMSE of 5 fold coss validation 0.06943559.**"
   ]
  },
  {
   "cell_type": "markdown",
   "id": "d59e5a16",
   "metadata": {},
   "source": [
    "<div class=\"alert alert-block alert-success\">\n",
    "    \n",
    "## Model Selection  <a class=\"anchor\" name=\"select\"></a>"
   ]
  },
  {
   "cell_type": "code",
   "execution_count": 13,
   "id": "868808f6",
   "metadata": {
    "vscode": {
     "languageId": "r"
    }
   },
   "outputs": [],
   "source": [
    "set.seed(1)\n",
    "rf_final <- randomForest(price~., data= training_data, ntree= 300, mtry= 7)"
   ]
  },
  {
   "cell_type": "markdown",
   "id": "9fbedd46",
   "metadata": {},
   "source": [
    "<div class=\"alert alert-block alert-success\">\n",
    "    \n",
    "## Write Prediction File  <a class=\"anchor\" name=\"submit\"></a>"
   ]
  },
  {
   "cell_type": "markdown",
   "id": "5cd8de4d",
   "metadata": {},
   "source": [
    "**Prepare file for submission**"
   ]
  },
  {
   "cell_type": "code",
   "execution_count": 14,
   "id": "1d16cb06",
   "metadata": {
    "vscode": {
     "languageId": "r"
    }
   },
   "outputs": [],
   "source": [
    "test_data <-  test_data %>% select(top7_features, price)\n",
    "\n",
    "\n",
    "pred <- predict(rf_final, test_data)\n",
    "\n",
    "\n",
    "df_pred <- data.frame(cbind(X_val$id,pred))\n",
    "colnames(df_pred) <- c('id','pred')\n",
    "\n",
    "names(df_pred)[names(df_pred) == \"pred\"] <- \"pred\"\n",
    "\n",
    "\n",
    "write.csv(df_pred, 'pred_values.csv', row.names=F)"
   ]
  }
 ],
 "metadata": {
  "kernelspec": {
   "display_name": "R",
   "language": "R",
   "name": "ir"
  },
  "language_info": {
   "codemirror_mode": "r",
   "file_extension": ".r",
   "mimetype": "text/x-r-source",
   "name": "R",
   "pygments_lexer": "r",
   "version": "4.3.0"
  }
 },
 "nbformat": 4,
 "nbformat_minor": 5
}
